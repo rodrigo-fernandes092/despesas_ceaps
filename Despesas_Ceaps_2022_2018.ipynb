{
  "nbformat": 4,
  "nbformat_minor": 0,
  "metadata": {
    "colab": {
      "name": "Despesas_Ceaps_2022-2018.ipynb",
      "provenance": [],
      "authorship_tag": "ABX9TyO/UVmNkTETfqqe9gC3IyHd",
      "include_colab_link": true
    },
    "kernelspec": {
      "name": "python3",
      "display_name": "Python 3"
    },
    "language_info": {
      "name": "python"
    }
  },
  "cells": [
    {
      "cell_type": "markdown",
      "metadata": {
        "id": "view-in-github",
        "colab_type": "text"
      },
      "source": [
        "<a href=\"https://colab.research.google.com/github/rodrigo-fernandes092/despesas_ceaps/blob/main/Despesas_Ceaps_2022_2018.ipynb\" target=\"_parent\"><img src=\"https://colab.research.google.com/assets/colab-badge.svg\" alt=\"Open In Colab\"/></a>"
      ]
    },
    {
      "cell_type": "markdown",
      "source": [
        "# **#7DaysOfCode**\n",
        "\n",
        "É um desafio proposto pelo Cientista de Dados Paulo Vasconcellos junto com Alura, Plataforma Brasileira de Ensino.<p>\n",
        "Que visa incentivar a prática dos estudos técnicos com desafios diários e materiais extras durante 7 dias.\n",
        "\n"
      ],
      "metadata": {
        "id": "gP_qRrMN6LWE"
      }
    },
    {
      "cell_type": "markdown",
      "source": [
        "#**01° Desafio**\n",
        "\n",
        "Coletar o dataset do portal do [CEAPS ( Cota para Exercício da Atividade Parlamentar)](https://www12.senado.leg.br/transparencia/dados-abertos-transparencia/dados-abertos-ceaps?utm_source=ActiveCampaign&utm_medium=email&utm_content=%237DaysOfCode+-+Ci%C3%AAncia+de+Dados+1%2F7%3A+Data+Cleaning+and+Preparation&utm_campaign=%5BAlura+%237Days+Of+Code%5D%28Java%29+Dia+1%2F7%3A+Consumir+uma+API+de+filmes)  e aplicar processo de limpeza e tratamento de dados nele, sendo eles nulos ou não.<p>\n",
        "\n",
        "Acessei o portal e coletei as despesas do CEAPS de 2018 até 2022\n"
      ],
      "metadata": {
        "id": "02nKEBMW66j9"
      }
    },
    {
      "cell_type": "markdown",
      "source": [
        "# **Instalando plotly**"
      ],
      "metadata": {
        "id": "_luroUQJNA0w"
      }
    },
    {
      "cell_type": "code",
      "source": [
        "pip install plotly"
      ],
      "metadata": {
        "colab": {
          "base_uri": "https://localhost:8080/"
        },
        "id": "zwqPCiq5MuFO",
        "outputId": "27adb6da-7fd1-4cc6-e4cd-468b8baca265"
      },
      "execution_count": 37,
      "outputs": [
        {
          "output_type": "stream",
          "name": "stdout",
          "text": [
            "Requirement already satisfied: plotly in /usr/local/lib/python3.7/dist-packages (5.5.0)\n",
            "Requirement already satisfied: tenacity>=6.2.0 in /usr/local/lib/python3.7/dist-packages (from plotly) (8.0.1)\n",
            "Requirement already satisfied: six in /usr/local/lib/python3.7/dist-packages (from plotly) (1.15.0)\n"
          ]
        }
      ]
    },
    {
      "cell_type": "markdown",
      "source": [
        "##**Importando as Bibliotecas**"
      ],
      "metadata": {
        "id": "gIvOnWB67rtv"
      }
    },
    {
      "cell_type": "code",
      "execution_count": 38,
      "metadata": {
        "id": "-azD3DhAebX3"
      },
      "outputs": [],
      "source": [
        "import pandas as pd\n",
        "import numpy as np\n",
        "import matplotlib.pyplot as plt\n",
        "import plotly.express as px\n"
      ]
    },
    {
      "cell_type": "markdown",
      "source": [
        "## *Problema 01*\n",
        "\n",
        " No momento que rodei para ler o arquivo, apareceu o erro **\"*utf-8 codec can't decode byte 0xf3 in position 213: invalid continuation byte*\"**.\n",
        "\n",
        "Consegui resolver definindo o sep=';',header=0,encoding='cp1252'\n",
        "\n",
        "O encoding foi mais difícil de achar, havia tentado outros como 'latin1', 'iso-8859-1' e 'utf-8' mas sem sucesso. Até conseguir o código 'cp1252' que resolveu o meu problema.\n"
      ],
      "metadata": {
        "id": "RPlFPDKyhm47"
      }
    },
    {
      "cell_type": "code",
      "source": [
        "ceaps_21 = pd.read_csv('despesa_ceaps_2021.csv',sep=';',header=1,encoding='cp1252')\n",
        "ceaps_20 = pd.read_csv('despesa_ceaps_2020.csv',sep=';',header=1,encoding='cp1252')\n",
        "ceaps_19 = pd.read_csv('despesa_ceaps_2019.csv',sep=';',header=1,encoding='cp1252')\n",
        "ceaps_18 = pd.read_csv('despesa_ceaps_2018.csv',sep=';',header=1,encoding='cp1252')\n",
        "\n"
      ],
      "metadata": {
        "id": "X5OECaMhe-da"
      },
      "execution_count": 39,
      "outputs": []
    },
    {
      "cell_type": "markdown",
      "source": [
        "# Checando os datasets\n",
        "Verificando se as bases de dados estão com os mesmos formatos e tipo de dados\n"
      ],
      "metadata": {
        "id": "BW4jpUehknKe"
      }
    },
    {
      "cell_type": "code",
      "source": [
        "ceaps_21.info()"
      ],
      "metadata": {
        "colab": {
          "base_uri": "https://localhost:8080/"
        },
        "id": "a0b50liohj-h",
        "outputId": "d18ab3a8-a924-4d3f-9bf7-097ecd73ed7d"
      },
      "execution_count": 40,
      "outputs": [
        {
          "output_type": "stream",
          "name": "stdout",
          "text": [
            "<class 'pandas.core.frame.DataFrame'>\n",
            "RangeIndex: 16808 entries, 0 to 16807\n",
            "Data columns (total 11 columns):\n",
            " #   Column             Non-Null Count  Dtype \n",
            "---  ------             --------------  ----- \n",
            " 0   ANO                16808 non-null  int64 \n",
            " 1   MES                16808 non-null  int64 \n",
            " 2   SENADOR            16808 non-null  object\n",
            " 3   TIPO_DESPESA       16808 non-null  object\n",
            " 4   CNPJ_CPF           16808 non-null  object\n",
            " 5   FORNECEDOR         16808 non-null  object\n",
            " 6   DOCUMENTO          16133 non-null  object\n",
            " 7   DATA               16808 non-null  object\n",
            " 8   DETALHAMENTO       9193 non-null   object\n",
            " 9   VALOR_REEMBOLSADO  16808 non-null  object\n",
            " 10  COD_DOCUMENTO      16808 non-null  int64 \n",
            "dtypes: int64(3), object(8)\n",
            "memory usage: 1.4+ MB\n"
          ]
        }
      ]
    },
    {
      "cell_type": "code",
      "source": [
        "ceaps_20.info()"
      ],
      "metadata": {
        "colab": {
          "base_uri": "https://localhost:8080/"
        },
        "id": "XJkuvbVdkOzN",
        "outputId": "684a6310-dccc-4fc6-a50e-b0138732a4fd"
      },
      "execution_count": 41,
      "outputs": [
        {
          "output_type": "stream",
          "name": "stdout",
          "text": [
            "<class 'pandas.core.frame.DataFrame'>\n",
            "RangeIndex: 14090 entries, 0 to 14089\n",
            "Data columns (total 11 columns):\n",
            " #   Column             Non-Null Count  Dtype \n",
            "---  ------             --------------  ----- \n",
            " 0   ANO                14090 non-null  int64 \n",
            " 1   MES                14090 non-null  int64 \n",
            " 2   SENADOR            14090 non-null  object\n",
            " 3   TIPO_DESPESA       14090 non-null  object\n",
            " 4   CNPJ_CPF           14090 non-null  object\n",
            " 5   FORNECEDOR         14090 non-null  object\n",
            " 6   DOCUMENTO          13470 non-null  object\n",
            " 7   DATA               14090 non-null  object\n",
            " 8   DETALHAMENTO       7228 non-null   object\n",
            " 9   VALOR_REEMBOLSADO  14090 non-null  object\n",
            " 10  COD_DOCUMENTO      14090 non-null  int64 \n",
            "dtypes: int64(3), object(8)\n",
            "memory usage: 1.2+ MB\n"
          ]
        }
      ]
    },
    {
      "cell_type": "code",
      "source": [
        "ceaps_19.info()"
      ],
      "metadata": {
        "colab": {
          "base_uri": "https://localhost:8080/"
        },
        "id": "_gLo-dKzkQa2",
        "outputId": "a998af35-26f0-4e02-b250-d06a1c912cdd"
      },
      "execution_count": 42,
      "outputs": [
        {
          "output_type": "stream",
          "name": "stdout",
          "text": [
            "<class 'pandas.core.frame.DataFrame'>\n",
            "RangeIndex: 21634 entries, 0 to 21633\n",
            "Data columns (total 11 columns):\n",
            " #   Column             Non-Null Count  Dtype \n",
            "---  ------             --------------  ----- \n",
            " 0   ANO                21634 non-null  int64 \n",
            " 1   MES                21634 non-null  int64 \n",
            " 2   SENADOR            21634 non-null  object\n",
            " 3   TIPO_DESPESA       21634 non-null  object\n",
            " 4   CNPJ_CPF           21634 non-null  object\n",
            " 5   FORNECEDOR         21634 non-null  object\n",
            " 6   DOCUMENTO          20900 non-null  object\n",
            " 7   DATA               21634 non-null  object\n",
            " 8   DETALHAMENTO       13092 non-null  object\n",
            " 9   VALOR_REEMBOLSADO  21634 non-null  object\n",
            " 10  COD_DOCUMENTO      21634 non-null  int64 \n",
            "dtypes: int64(3), object(8)\n",
            "memory usage: 1.8+ MB\n"
          ]
        }
      ]
    },
    {
      "cell_type": "code",
      "source": [
        "ceaps_18.info()"
      ],
      "metadata": {
        "colab": {
          "base_uri": "https://localhost:8080/"
        },
        "id": "AJ6f4ZHEkTVN",
        "outputId": "56f6353e-7e92-43f2-84b8-bdc91a5e3ed6"
      },
      "execution_count": 43,
      "outputs": [
        {
          "output_type": "stream",
          "name": "stdout",
          "text": [
            "<class 'pandas.core.frame.DataFrame'>\n",
            "RangeIndex: 24492 entries, 0 to 24491\n",
            "Data columns (total 11 columns):\n",
            " #   Column             Non-Null Count  Dtype \n",
            "---  ------             --------------  ----- \n",
            " 0   ANO                24492 non-null  int64 \n",
            " 1   MES                24492 non-null  int64 \n",
            " 2   SENADOR            24492 non-null  object\n",
            " 3   TIPO_DESPESA       24492 non-null  object\n",
            " 4   CNPJ_CPF           24492 non-null  object\n",
            " 5   FORNECEDOR         24492 non-null  object\n",
            " 6   DOCUMENTO          23476 non-null  object\n",
            " 7   DATA               24492 non-null  object\n",
            " 8   DETALHAMENTO       18882 non-null  object\n",
            " 9   VALOR_REEMBOLSADO  24492 non-null  object\n",
            " 10  COD_DOCUMENTO      24492 non-null  int64 \n",
            "dtypes: int64(3), object(8)\n",
            "memory usage: 2.1+ MB\n"
          ]
        }
      ]
    },
    {
      "cell_type": "markdown",
      "source": [
        "# Unindo os Datasets\n",
        "\n",
        "Após confirmar que as bases de dados estão no mesmo padrão. Unifiquei elas em um mesmo DataFrame, facilitando a transformação e limpeza de dados."
      ],
      "metadata": {
        "id": "T6pYMdGSmFkU"
      }
    },
    {
      "cell_type": "code",
      "source": [
        "ceaps_total=[ceaps_21,ceaps_20,ceaps_19,ceaps_18]\n",
        "\n",
        "ceaps = pd.concat(ceaps_total)\n",
        "\n",
        "ceaps.head(3)"
      ],
      "metadata": {
        "colab": {
          "base_uri": "https://localhost:8080/",
          "height": 240
        },
        "id": "94b6nhhwkl6k",
        "outputId": "2a5ca38b-ce23-4b31-d751-329bfbc7be58"
      },
      "execution_count": 44,
      "outputs": [
        {
          "output_type": "execute_result",
          "data": {
            "text/plain": [
              "    ANO  MES       SENADOR                                       TIPO_DESPESA  \\\n",
              "0  2021    1  ACIR GURGACZ  Aluguel de imóveis para escritório político, c...   \n",
              "1  2021    1  ACIR GURGACZ  Aluguel de imóveis para escritório político, c...   \n",
              "2  2021    1  ACIR GURGACZ  Aluguel de imóveis para escritório político, c...   \n",
              "\n",
              "             CNPJ_CPF                                         FORNECEDOR  \\\n",
              "0  05.914.650/0001-66                                           ENERGISA   \n",
              "1      062.135.728-64  FERNANDO WALDEIR PACINI e ANA LUCIA DA SILVA S...   \n",
              "2      004.948.028-63                      GILBERTO PISELO DO NASCIMENTO   \n",
              "\n",
              "     DOCUMENTO        DATA                                       DETALHAMENTO  \\\n",
              "0  023.489.627  21/01/2021  Pagamento de energia elétrica para uso do escr...   \n",
              "1      01/2021  05/01/2021  Despesa com pagamento de aluguel de imóvel par...   \n",
              "2       001/21  06/01/2021  Despesa com aluguel de imóvel para uso do escr...   \n",
              "\n",
              "  VALOR_REEMBOLSADO  COD_DOCUMENTO  \n",
              "0             75,29        2158003  \n",
              "1              1000        2157367  \n",
              "2              6000        2156383  "
            ],
            "text/html": [
              "\n",
              "  <div id=\"df-c9859d11-8b8d-48f2-aa65-85c5b0d4afac\">\n",
              "    <div class=\"colab-df-container\">\n",
              "      <div>\n",
              "<style scoped>\n",
              "    .dataframe tbody tr th:only-of-type {\n",
              "        vertical-align: middle;\n",
              "    }\n",
              "\n",
              "    .dataframe tbody tr th {\n",
              "        vertical-align: top;\n",
              "    }\n",
              "\n",
              "    .dataframe thead th {\n",
              "        text-align: right;\n",
              "    }\n",
              "</style>\n",
              "<table border=\"1\" class=\"dataframe\">\n",
              "  <thead>\n",
              "    <tr style=\"text-align: right;\">\n",
              "      <th></th>\n",
              "      <th>ANO</th>\n",
              "      <th>MES</th>\n",
              "      <th>SENADOR</th>\n",
              "      <th>TIPO_DESPESA</th>\n",
              "      <th>CNPJ_CPF</th>\n",
              "      <th>FORNECEDOR</th>\n",
              "      <th>DOCUMENTO</th>\n",
              "      <th>DATA</th>\n",
              "      <th>DETALHAMENTO</th>\n",
              "      <th>VALOR_REEMBOLSADO</th>\n",
              "      <th>COD_DOCUMENTO</th>\n",
              "    </tr>\n",
              "  </thead>\n",
              "  <tbody>\n",
              "    <tr>\n",
              "      <th>0</th>\n",
              "      <td>2021</td>\n",
              "      <td>1</td>\n",
              "      <td>ACIR GURGACZ</td>\n",
              "      <td>Aluguel de imóveis para escritório político, c...</td>\n",
              "      <td>05.914.650/0001-66</td>\n",
              "      <td>ENERGISA</td>\n",
              "      <td>023.489.627</td>\n",
              "      <td>21/01/2021</td>\n",
              "      <td>Pagamento de energia elétrica para uso do escr...</td>\n",
              "      <td>75,29</td>\n",
              "      <td>2158003</td>\n",
              "    </tr>\n",
              "    <tr>\n",
              "      <th>1</th>\n",
              "      <td>2021</td>\n",
              "      <td>1</td>\n",
              "      <td>ACIR GURGACZ</td>\n",
              "      <td>Aluguel de imóveis para escritório político, c...</td>\n",
              "      <td>062.135.728-64</td>\n",
              "      <td>FERNANDO WALDEIR PACINI e ANA LUCIA DA SILVA S...</td>\n",
              "      <td>01/2021</td>\n",
              "      <td>05/01/2021</td>\n",
              "      <td>Despesa com pagamento de aluguel de imóvel par...</td>\n",
              "      <td>1000</td>\n",
              "      <td>2157367</td>\n",
              "    </tr>\n",
              "    <tr>\n",
              "      <th>2</th>\n",
              "      <td>2021</td>\n",
              "      <td>1</td>\n",
              "      <td>ACIR GURGACZ</td>\n",
              "      <td>Aluguel de imóveis para escritório político, c...</td>\n",
              "      <td>004.948.028-63</td>\n",
              "      <td>GILBERTO PISELO DO NASCIMENTO</td>\n",
              "      <td>001/21</td>\n",
              "      <td>06/01/2021</td>\n",
              "      <td>Despesa com aluguel de imóvel para uso do escr...</td>\n",
              "      <td>6000</td>\n",
              "      <td>2156383</td>\n",
              "    </tr>\n",
              "  </tbody>\n",
              "</table>\n",
              "</div>\n",
              "      <button class=\"colab-df-convert\" onclick=\"convertToInteractive('df-c9859d11-8b8d-48f2-aa65-85c5b0d4afac')\"\n",
              "              title=\"Convert this dataframe to an interactive table.\"\n",
              "              style=\"display:none;\">\n",
              "        \n",
              "  <svg xmlns=\"http://www.w3.org/2000/svg\" height=\"24px\"viewBox=\"0 0 24 24\"\n",
              "       width=\"24px\">\n",
              "    <path d=\"M0 0h24v24H0V0z\" fill=\"none\"/>\n",
              "    <path d=\"M18.56 5.44l.94 2.06.94-2.06 2.06-.94-2.06-.94-.94-2.06-.94 2.06-2.06.94zm-11 1L8.5 8.5l.94-2.06 2.06-.94-2.06-.94L8.5 2.5l-.94 2.06-2.06.94zm10 10l.94 2.06.94-2.06 2.06-.94-2.06-.94-.94-2.06-.94 2.06-2.06.94z\"/><path d=\"M17.41 7.96l-1.37-1.37c-.4-.4-.92-.59-1.43-.59-.52 0-1.04.2-1.43.59L10.3 9.45l-7.72 7.72c-.78.78-.78 2.05 0 2.83L4 21.41c.39.39.9.59 1.41.59.51 0 1.02-.2 1.41-.59l7.78-7.78 2.81-2.81c.8-.78.8-2.07 0-2.86zM5.41 20L4 18.59l7.72-7.72 1.47 1.35L5.41 20z\"/>\n",
              "  </svg>\n",
              "      </button>\n",
              "      \n",
              "  <style>\n",
              "    .colab-df-container {\n",
              "      display:flex;\n",
              "      flex-wrap:wrap;\n",
              "      gap: 12px;\n",
              "    }\n",
              "\n",
              "    .colab-df-convert {\n",
              "      background-color: #E8F0FE;\n",
              "      border: none;\n",
              "      border-radius: 50%;\n",
              "      cursor: pointer;\n",
              "      display: none;\n",
              "      fill: #1967D2;\n",
              "      height: 32px;\n",
              "      padding: 0 0 0 0;\n",
              "      width: 32px;\n",
              "    }\n",
              "\n",
              "    .colab-df-convert:hover {\n",
              "      background-color: #E2EBFA;\n",
              "      box-shadow: 0px 1px 2px rgba(60, 64, 67, 0.3), 0px 1px 3px 1px rgba(60, 64, 67, 0.15);\n",
              "      fill: #174EA6;\n",
              "    }\n",
              "\n",
              "    [theme=dark] .colab-df-convert {\n",
              "      background-color: #3B4455;\n",
              "      fill: #D2E3FC;\n",
              "    }\n",
              "\n",
              "    [theme=dark] .colab-df-convert:hover {\n",
              "      background-color: #434B5C;\n",
              "      box-shadow: 0px 1px 3px 1px rgba(0, 0, 0, 0.15);\n",
              "      filter: drop-shadow(0px 1px 2px rgba(0, 0, 0, 0.3));\n",
              "      fill: #FFFFFF;\n",
              "    }\n",
              "  </style>\n",
              "\n",
              "      <script>\n",
              "        const buttonEl =\n",
              "          document.querySelector('#df-c9859d11-8b8d-48f2-aa65-85c5b0d4afac button.colab-df-convert');\n",
              "        buttonEl.style.display =\n",
              "          google.colab.kernel.accessAllowed ? 'block' : 'none';\n",
              "\n",
              "        async function convertToInteractive(key) {\n",
              "          const element = document.querySelector('#df-c9859d11-8b8d-48f2-aa65-85c5b0d4afac');\n",
              "          const dataTable =\n",
              "            await google.colab.kernel.invokeFunction('convertToInteractive',\n",
              "                                                     [key], {});\n",
              "          if (!dataTable) return;\n",
              "\n",
              "          const docLinkHtml = 'Like what you see? Visit the ' +\n",
              "            '<a target=\"_blank\" href=https://colab.research.google.com/notebooks/data_table.ipynb>data table notebook</a>'\n",
              "            + ' to learn more about interactive tables.';\n",
              "          element.innerHTML = '';\n",
              "          dataTable['output_type'] = 'display_data';\n",
              "          await google.colab.output.renderOutput(dataTable, element);\n",
              "          const docLink = document.createElement('div');\n",
              "          docLink.innerHTML = docLinkHtml;\n",
              "          element.appendChild(docLink);\n",
              "        }\n",
              "      </script>\n",
              "    </div>\n",
              "  </div>\n",
              "  "
            ]
          },
          "metadata": {},
          "execution_count": 44
        }
      ]
    },
    {
      "cell_type": "markdown",
      "source": [
        "# Renomeando as colunas do DataFrame\n",
        "\n",
        "O nome das colunas estão objetivas, mas irei deixa-las em letra minuscula para facilitar a escrita.\n"
      ],
      "metadata": {
        "id": "RhVHmQ8KEOll"
      }
    },
    {
      "cell_type": "code",
      "source": [
        "columns=['ano','mes','senador','tipo_despesa','cnpj_cpf','fornecedor',\\\n",
        "         'documento','data','detalhamento','valor_reembolsado','cod_documento']\n",
        "\n",
        "ceaps.set_axis(columns,axis='columns',inplace=True)\n",
        "ceaps.columns"
      ],
      "metadata": {
        "colab": {
          "base_uri": "https://localhost:8080/"
        },
        "id": "H29BXJN6EhUF",
        "outputId": "88e8c3b9-dd49-4678-93f9-5166c9bed080"
      },
      "execution_count": 45,
      "outputs": [
        {
          "output_type": "execute_result",
          "data": {
            "text/plain": [
              "Index(['ano', 'mes', 'senador', 'tipo_despesa', 'cnpj_cpf', 'fornecedor',\n",
              "       'documento', 'data', 'detalhamento', 'valor_reembolsado',\n",
              "       'cod_documento'],\n",
              "      dtype='object')"
            ]
          },
          "metadata": {},
          "execution_count": 45
        }
      ]
    },
    {
      "cell_type": "markdown",
      "source": [
        "# Analisando as informações Nulas no DataFrame\n",
        "\n",
        "df.info()\n",
        "\n",
        "É uma ótima maneira de verificar a sua base de dados. Com ele, é possível ver o tipo de formato por coluna e quais colunas possuem valoes nulos."
      ],
      "metadata": {
        "id": "HrOmBco6n0q4"
      }
    },
    {
      "cell_type": "code",
      "source": [
        "ceaps.info()"
      ],
      "metadata": {
        "colab": {
          "base_uri": "https://localhost:8080/"
        },
        "id": "nLYUV_8il35G",
        "outputId": "e9bc43a1-a653-4338-ad7c-51511ddc9428"
      },
      "execution_count": 46,
      "outputs": [
        {
          "output_type": "stream",
          "name": "stdout",
          "text": [
            "<class 'pandas.core.frame.DataFrame'>\n",
            "Int64Index: 77024 entries, 0 to 24491\n",
            "Data columns (total 11 columns):\n",
            " #   Column             Non-Null Count  Dtype \n",
            "---  ------             --------------  ----- \n",
            " 0   ano                77024 non-null  int64 \n",
            " 1   mes                77024 non-null  int64 \n",
            " 2   senador            77024 non-null  object\n",
            " 3   tipo_despesa       77024 non-null  object\n",
            " 4   cnpj_cpf           77024 non-null  object\n",
            " 5   fornecedor         77024 non-null  object\n",
            " 6   documento          73979 non-null  object\n",
            " 7   data               77024 non-null  object\n",
            " 8   detalhamento       48395 non-null  object\n",
            " 9   valor_reembolsado  77024 non-null  object\n",
            " 10  cod_documento      77024 non-null  int64 \n",
            "dtypes: int64(3), object(8)\n",
            "memory usage: 7.1+ MB\n"
          ]
        }
      ]
    },
    {
      "cell_type": "code",
      "source": [
        "print('Informações faltantes na coluna Documento:',round(((80773-77562)/80773)*100,2),'%')\n",
        "\n",
        "print('Informações faltantes na coluna Detalhamento:',round(((80773-50302)/80773)*100,2),'%')"
      ],
      "metadata": {
        "colab": {
          "base_uri": "https://localhost:8080/"
        },
        "id": "eOsYbBvsmxK1",
        "outputId": "c72e7e6e-ccc6-4810-a910-0af48053fb92"
      },
      "execution_count": 47,
      "outputs": [
        {
          "output_type": "stream",
          "name": "stdout",
          "text": [
            "Informações faltantes na coluna Documento: 3.98 %\n",
            "Informações faltantes na coluna Detalhamento: 37.72 %\n"
          ]
        }
      ]
    },
    {
      "cell_type": "markdown",
      "source": [
        "## *Problema 02*\n",
        "\n",
        "No momento da alteração do tipo de dado string (texto) para float (valor flotuante). Apresentou erro, pois na coluna há valores de reembolso com centavos representados pela **vírgula**. <p>\n",
        "\n",
        "Para o Python, a vírgula representa separação para valores a partir de mil e valores decimais são representados por ponto final. Por ex: 1,850.63\n",
        "\n",
        "\n",
        "Para resolver este problema. Utilizei str.replace('x','y')\n",
        "\n",
        "str -  informar que o tipo de dado é texto\n",
        "replace('x','y') - substituir o valor antigo 'x' para o valor novo 'y'\n",
        "\n"
      ],
      "metadata": {
        "id": "iqgCEnVvrr-7"
      }
    },
    {
      "cell_type": "code",
      "source": [
        "ceaps['valor_reembolsado']=ceaps.valor_reembolsado.str.replace(',','.')\n",
        "\n",
        "ceaps.valor_reembolsado.unique()"
      ],
      "metadata": {
        "colab": {
          "base_uri": "https://localhost:8080/"
        },
        "id": "0k0ylXINm-HT",
        "outputId": "ad6e3b8d-acb1-498d-b839-16577d6fdf04"
      },
      "execution_count": 48,
      "outputs": [
        {
          "output_type": "execute_result",
          "data": {
            "text/plain": [
              "array(['75.29', '1000', '6000', ..., '486.25', '1132.69', '1260.45'],\n",
              "      dtype=object)"
            ]
          },
          "metadata": {},
          "execution_count": 48
        }
      ]
    },
    {
      "cell_type": "code",
      "source": [
        "ceaps['valor_reembolsado']=  ceaps.valor_reembolsado.astype('float64',copy=False)\n",
        "ceaps.info()"
      ],
      "metadata": {
        "colab": {
          "base_uri": "https://localhost:8080/"
        },
        "id": "jz8fy4mSphJt",
        "outputId": "7aad1a5d-d6e2-4da4-c397-58343e36bb1a"
      },
      "execution_count": 49,
      "outputs": [
        {
          "output_type": "stream",
          "name": "stdout",
          "text": [
            "<class 'pandas.core.frame.DataFrame'>\n",
            "Int64Index: 77024 entries, 0 to 24491\n",
            "Data columns (total 11 columns):\n",
            " #   Column             Non-Null Count  Dtype  \n",
            "---  ------             --------------  -----  \n",
            " 0   ano                77024 non-null  int64  \n",
            " 1   mes                77024 non-null  int64  \n",
            " 2   senador            77024 non-null  object \n",
            " 3   tipo_despesa       77024 non-null  object \n",
            " 4   cnpj_cpf           77024 non-null  object \n",
            " 5   fornecedor         77024 non-null  object \n",
            " 6   documento          73979 non-null  object \n",
            " 7   data               77024 non-null  object \n",
            " 8   detalhamento       48395 non-null  object \n",
            " 9   valor_reembolsado  77024 non-null  float64\n",
            " 10  cod_documento      77024 non-null  int64  \n",
            "dtypes: float64(1), int64(3), object(7)\n",
            "memory usage: 7.1+ MB\n"
          ]
        }
      ]
    },
    {
      "cell_type": "markdown",
      "source": [
        "# Valores Nulos\n",
        "\n",
        "Substitui os valores nulos por \"sem_dados\". Pois pretendo analisar quais são os representantes publicos que possuem maior quantidade de dados faltantes e quanto isso representa."
      ],
      "metadata": {
        "id": "SRoaRnsOFghu"
      }
    },
    {
      "cell_type": "code",
      "source": [
        "ceaps['detalhamento'] = ceaps.detalhamento.replace(np.nan,'sem_dados')\n",
        "ceaps[ceaps.detalhamento=='sem_dados'].detalhamento.count()"
      ],
      "metadata": {
        "colab": {
          "base_uri": "https://localhost:8080/"
        },
        "id": "4_l6FsoeiZuh",
        "outputId": "e8a1cbee-f4ea-42fe-d1fa-56e0c6e18a99"
      },
      "execution_count": 50,
      "outputs": [
        {
          "output_type": "execute_result",
          "data": {
            "text/plain": [
              "28629"
            ]
          },
          "metadata": {},
          "execution_count": 50
        }
      ]
    },
    {
      "cell_type": "code",
      "source": [
        "ceaps['despesa_descricao'] = ceaps.detalhamento.apply(lambda linha:'Não Detalhado'if linha =='sem_dados' else 'Detalhado')"
      ],
      "metadata": {
        "id": "Uzl838Dk_s6D"
      },
      "execution_count": 52,
      "outputs": []
    },
    {
      "cell_type": "code",
      "source": [
        "desp_preenchimento = pd.pivot_table(ceaps, values='valor_reembolsado', aggfunc='sum', fill_value=0, index='ano', columns='despesa_descricao')\n"
      ],
      "metadata": {
        "id": "5SS8KyM4aOgp"
      },
      "execution_count": 53,
      "outputs": []
    },
    {
      "cell_type": "code",
      "source": [
        "plt.rcParams[\"figure.figsize\"]= (10,6)\n",
        "fig = desp_preenchimento.plot.bar( rot=0,stacked=False)\n",
        "plt.legend(title = 'Descrição Despesas')\n",
        "plt.xlabel('anos',fontsize=12)\n",
        "plt.ylabel('Valor Reembolsado em  mi R$',fontsize=12)\n",
        "plt.title('Despesas Preenchidas pelos Senadores',size=18)\n",
        "plt.grid(color = 'gray',linestyle=':',visible= True)\n",
        "plt.show();\n"
      ],
      "metadata": {
        "colab": {
          "base_uri": "https://localhost:8080/",
          "height": 411
        },
        "id": "9jf6ZxJDSbYt",
        "outputId": "068c9a95-fc98-4bbf-db4c-600b041cd9c5"
      },
      "execution_count": 54,
      "outputs": [
        {
          "output_type": "display_data",
          "data": {
            "text/plain": [
              "<Figure size 720x432 with 1 Axes>"
            ],
            "image/png": "[encoded data removed]"
          },
          "metadata": {
            "needs_background": "light"
          }
        }
      ]
    },
    {
      "cell_type": "markdown",
      "source": [
        "É um grafico de comparação do valor das despesas que tiveram os seus detalhes preenchidos pelos senadores durante aos anos. <p>\n",
        "\n"
      ],
      "metadata": {
        "id": "quAbxUjZqIDz"
      }
    },
    {
      "cell_type": "markdown",
      "source": [
        "**Criando um dataset para analisar quas tipos de gastos possuem maior valor de reembolso.**"
      ],
      "metadata": {
        "id": "MGPIovoCBEEV"
      }
    },
    {
      "cell_type": "code",
      "source": [
        "desp_cat = ceaps\n",
        "\n",
        "desp_cat = desp_cat.drop(columns=(['mes',  'cnpj_cpf', 'fornecedor',\n",
        "       'documento', 'data', 'detalhamento','cod_documento']), axis=1)\n",
        "desp_cat.head()"
      ],
      "metadata": {
        "colab": {
          "base_uri": "https://localhost:8080/",
          "height": 206
        },
        "id": "hhxF2ohQsx7m",
        "outputId": "573d7308-563a-4b6a-8bc6-0a1ad56f2521"
      },
      "execution_count": 80,
      "outputs": [
        {
          "output_type": "execute_result",
          "data": {
            "text/plain": [
              "    ano       senador                                       tipo_despesa  \\\n",
              "0  2021  ACIR GURGACZ  Aluguel de imóveis para escritório político, c...   \n",
              "1  2021  ACIR GURGACZ  Aluguel de imóveis para escritório político, c...   \n",
              "2  2021  ACIR GURGACZ  Aluguel de imóveis para escritório político, c...   \n",
              "3  2021  ACIR GURGACZ                Divulgação da atividade parlamentar   \n",
              "4  2021  ACIR GURGACZ                Divulgação da atividade parlamentar   \n",
              "\n",
              "   valor_reembolsado despesa_descricao  \n",
              "0              75.29         Detalhado  \n",
              "1            1000.00         Detalhado  \n",
              "2            6000.00         Detalhado  \n",
              "3            1500.00         Detalhado  \n",
              "4            6000.00         Detalhado  "
            ],
            "text/html": [
              "\n",
              "  <div id=\"df-7898fd97-aed1-4130-9e52-d751817712f1\">\n",
              "    <div class=\"colab-df-container\">\n",
              "      <div>\n",
              "<style scoped>\n",
              "    .dataframe tbody tr th:only-of-type {\n",
              "        vertical-align: middle;\n",
              "    }\n",
              "\n",
              "    .dataframe tbody tr th {\n",
              "        vertical-align: top;\n",
              "    }\n",
              "\n",
              "    .dataframe thead th {\n",
              "        text-align: right;\n",
              "    }\n",
              "</style>\n",
              "<table border=\"1\" class=\"dataframe\">\n",
              "  <thead>\n",
              "    <tr style=\"text-align: right;\">\n",
              "      <th></th>\n",
              "      <th>ano</th>\n",
              "      <th>senador</th>\n",
              "      <th>tipo_despesa</th>\n",
              "      <th>valor_reembolsado</th>\n",
              "      <th>despesa_descricao</th>\n",
              "    </tr>\n",
              "  </thead>\n",
              "  <tbody>\n",
              "    <tr>\n",
              "      <th>0</th>\n",
              "      <td>2021</td>\n",
              "      <td>ACIR GURGACZ</td>\n",
              "      <td>Aluguel de imóveis para escritório político, c...</td>\n",
              "      <td>75.29</td>\n",
              "      <td>Detalhado</td>\n",
              "    </tr>\n",
              "    <tr>\n",
              "      <th>1</th>\n",
              "      <td>2021</td>\n",
              "      <td>ACIR GURGACZ</td>\n",
              "      <td>Aluguel de imóveis para escritório político, c...</td>\n",
              "      <td>1000.00</td>\n",
              "      <td>Detalhado</td>\n",
              "    </tr>\n",
              "    <tr>\n",
              "      <th>2</th>\n",
              "      <td>2021</td>\n",
              "      <td>ACIR GURGACZ</td>\n",
              "      <td>Aluguel de imóveis para escritório político, c...</td>\n",
              "      <td>6000.00</td>\n",
              "      <td>Detalhado</td>\n",
              "    </tr>\n",
              "    <tr>\n",
              "      <th>3</th>\n",
              "      <td>2021</td>\n",
              "      <td>ACIR GURGACZ</td>\n",
              "      <td>Divulgação da atividade parlamentar</td>\n",
              "      <td>1500.00</td>\n",
              "      <td>Detalhado</td>\n",
              "    </tr>\n",
              "    <tr>\n",
              "      <th>4</th>\n",
              "      <td>2021</td>\n",
              "      <td>ACIR GURGACZ</td>\n",
              "      <td>Divulgação da atividade parlamentar</td>\n",
              "      <td>6000.00</td>\n",
              "      <td>Detalhado</td>\n",
              "    </tr>\n",
              "  </tbody>\n",
              "</table>\n",
              "</div>\n",
              "      <button class=\"colab-df-convert\" onclick=\"convertToInteractive('df-7898fd97-aed1-4130-9e52-d751817712f1')\"\n",
              "              title=\"Convert this dataframe to an interactive table.\"\n",
              "              style=\"display:none;\">\n",
              "        \n",
              "  <svg xmlns=\"http://www.w3.org/2000/svg\" height=\"24px\"viewBox=\"0 0 24 24\"\n",
              "       width=\"24px\">\n",
              "    <path d=\"M0 0h24v24H0V0z\" fill=\"none\"/>\n",
              "    <path d=\"M18.56 5.44l.94 2.06.94-2.06 2.06-.94-2.06-.94-.94-2.06-.94 2.06-2.06.94zm-11 1L8.5 8.5l.94-2.06 2.06-.94-2.06-.94L8.5 2.5l-.94 2.06-2.06.94zm10 10l.94 2.06.94-2.06 2.06-.94-2.06-.94-.94-2.06-.94 2.06-2.06.94z\"/><path d=\"M17.41 7.96l-1.37-1.37c-.4-.4-.92-.59-1.43-.59-.52 0-1.04.2-1.43.59L10.3 9.45l-7.72 7.72c-.78.78-.78 2.05 0 2.83L4 21.41c.39.39.9.59 1.41.59.51 0 1.02-.2 1.41-.59l7.78-7.78 2.81-2.81c.8-.78.8-2.07 0-2.86zM5.41 20L4 18.59l7.72-7.72 1.47 1.35L5.41 20z\"/>\n",
              "  </svg>\n",
              "      </button>\n",
              "      \n",
              "  <style>\n",
              "    .colab-df-container {\n",
              "      display:flex;\n",
              "      flex-wrap:wrap;\n",
              "      gap: 12px;\n",
              "    }\n",
              "\n",
              "    .colab-df-convert {\n",
              "      background-color: #E8F0FE;\n",
              "      border: none;\n",
              "      border-radius: 50%;\n",
              "      cursor: pointer;\n",
              "      display: none;\n",
              "      fill: #1967D2;\n",
              "      height: 32px;\n",
              "      padding: 0 0 0 0;\n",
              "      width: 32px;\n",
              "    }\n",
              "\n",
              "    .colab-df-convert:hover {\n",
              "      background-color: #E2EBFA;\n",
              "      box-shadow: 0px 1px 2px rgba(60, 64, 67, 0.3), 0px 1px 3px 1px rgba(60, 64, 67, 0.15);\n",
              "      fill: #174EA6;\n",
              "    }\n",
              "\n",
              "    [theme=dark] .colab-df-convert {\n",
              "      background-color: #3B4455;\n",
              "      fill: #D2E3FC;\n",
              "    }\n",
              "\n",
              "    [theme=dark] .colab-df-convert:hover {\n",
              "      background-color: #434B5C;\n",
              "      box-shadow: 0px 1px 3px 1px rgba(0, 0, 0, 0.15);\n",
              "      filter: drop-shadow(0px 1px 2px rgba(0, 0, 0, 0.3));\n",
              "      fill: #FFFFFF;\n",
              "    }\n",
              "  </style>\n",
              "\n",
              "      <script>\n",
              "        const buttonEl =\n",
              "          document.querySelector('#df-7898fd97-aed1-4130-9e52-d751817712f1 button.colab-df-convert');\n",
              "        buttonEl.style.display =\n",
              "          google.colab.kernel.accessAllowed ? 'block' : 'none';\n",
              "\n",
              "        async function convertToInteractive(key) {\n",
              "          const element = document.querySelector('#df-7898fd97-aed1-4130-9e52-d751817712f1');\n",
              "          const dataTable =\n",
              "            await google.colab.kernel.invokeFunction('convertToInteractive',\n",
              "                                                     [key], {});\n",
              "          if (!dataTable) return;\n",
              "\n",
              "          const docLinkHtml = 'Like what you see? Visit the ' +\n",
              "            '<a target=\"_blank\" href=https://colab.research.google.com/notebooks/data_table.ipynb>data table notebook</a>'\n",
              "            + ' to learn more about interactive tables.';\n",
              "          element.innerHTML = '';\n",
              "          dataTable['output_type'] = 'display_data';\n",
              "          await google.colab.output.renderOutput(dataTable, element);\n",
              "          const docLink = document.createElement('div');\n",
              "          docLink.innerHTML = docLinkHtml;\n",
              "          element.appendChild(docLink);\n",
              "        }\n",
              "      </script>\n",
              "    </div>\n",
              "  </div>\n",
              "  "
            ]
          },
          "metadata": {},
          "execution_count": 80
        }
      ]
    },
    {
      "cell_type": "markdown",
      "source": [
        "A descrição do tipo de despesa é muito longa, dificultando a leitura. <p>\n",
        "Realizei a substituição para uma descrição mais genérica, mas que não altere a sua definição."
      ],
      "metadata": {
        "id": "rdDDXi9nCMhz"
      }
    },
    {
      "cell_type": "code",
      "source": [
        "ceaps.groupby('tipo_despesa')['valor_reembolsado'].sum()"
      ],
      "metadata": {
        "colab": {
          "base_uri": "https://localhost:8080/"
        },
        "id": "0uy-5oDRBvya",
        "outputId": "b400aaac-8002-49ce-a989-bbf1869543e4"
      },
      "execution_count": 92,
      "outputs": [
        {
          "output_type": "execute_result",
          "data": {
            "text/plain": [
              "tipo_despesa\n",
              "Aluguel de imóveis para escritório político, compreendendo despesas concernentes a eles.                                                                                                           17205022.77\n",
              "Aquisição de material de consumo para uso no escritório político, inclusive aquisição ou locação de software, despesas postais, aquisição de publicações, locação de móveis e de equipamentos.      3691289.51\n",
              "Contratação de consultorias, assessorias, pesquisas, trabalhos técnicos e outros serviços de apoio ao exercício do mandato parlamentar                                                             23025435.16\n",
              "Divulgação da atividade parlamentar                                                                                                                                                                12142138.88\n",
              "Locomoção, hospedagem, alimentação, combustíveis e lubrificantes                                                                                                                                   18139600.11\n",
              "Passagens aéreas, aquáticas e terrestres nacionais                                                                                                                                                 21776951.86\n",
              "Serviços de Segurança Privada                                                                                                                                                                        298109.27\n",
              "Name: valor_reembolsado, dtype: float64"
            ]
          },
          "metadata": {},
          "execution_count": 92
        }
      ]
    },
    {
      "cell_type": "code",
      "source": [
        "desp_cat.tipo_despesa.replace({'Aluguel de imóveis para escritório político, compreendendo despesas concernentes a eles.':\"Aluguel escritório e despesas\",\n",
        "       'Divulgação da atividade parlamentar': \"Divulgação da atividade parlamentar\",\n",
        "       'Passagens aéreas, aquáticas e terrestres nacionais': \"Passagens nacionais\",\n",
        "       'Locomoção, hospedagem, alimentação, combustíveis e lubrificantes': \"Gastos locomoção\",\n",
        "       'Contratação de consultorias, assessorias, pesquisas, trabalhos técnicos e outros serviços de apoio ao exercício do mandato parlamentar': \"Prestador de Serviço Técnico\",\n",
        "       'Aquisição de material de consumo para uso no escritório político, inclusive aquisição ou locação de software, despesas postais, aquisição de publicações, locação de móveis e de equipamentos. ': \"Despesas escritório\",\n",
        "       'Serviços de Segurança Privada': \"Seguranca. Privada\"},inplace=True)\n"
      ],
      "metadata": {
        "id": "YGu819LWtUI2"
      },
      "execution_count": 169,
      "outputs": []
    },
    {
      "cell_type": "code",
      "source": [
        "plt.rcParams[\"figure.figsize\"]= (10,6)\n",
        "desp_cat.groupby('tipo_despesa')['valor_reembolsado'].sum().sort_values(ascending=True).plot.barh();\n",
        "plt.ylabel('Tipo da Despesa',size=12)\n",
        "plt.xticks(size=10)\n",
        "plt.yticks(size=10)\n",
        "plt.xlabel('Valores Reembolsados mi R$',size=12)\n",
        "plt.title('Valores Reembolsados por Tipo de Despesa',fontsize=18);"
      ],
      "metadata": {
        "colab": {
          "base_uri": "https://localhost:8080/",
          "height": 411
        },
        "id": "U_YoO59774Hp",
        "outputId": "ccd06fbb-bcc3-4639-e74c-8a153a214553"
      },
      "execution_count": 168,
      "outputs": [
        {
          "output_type": "display_data",
          "data": {
            "text/plain": [
              "<Figure size 720x432 with 1 Axes>"
            ],
            "image/png": "[encoded data removed]"
          },
          "metadata": {
            "needs_background": "light"
          }
        }
      ]
    },
    {
      "cell_type": "code",
      "source": [
        "pvt_desp = desp_cat.pivot_table(values='valor_reembolsado',\\\n",
        "                                columns='despesa_descricao',\\\n",
        "                                margins_name='total' ,margins=True,\\\n",
        "                                index='tipo_despesa',aggfunc='sum')\n",
        "\n",
        "pvt_desp.sort_values(by='total',axis=0,ascending=True,inplace=True)\n",
        " \n",
        "pvt_desp = pvt_desp.drop(columns='total',axis=1)\n",
        "\n",
        "pvt_desp = pvt_desp.drop(index='total',axis=0)"
      ],
      "metadata": {
        "id": "o2rHG1fDEehS"
      },
      "execution_count": 151,
      "outputs": []
    },
    {
      "cell_type": "code",
      "source": [
        "plt.rcParams[\"figure.figsize\"]=(10,6)\n",
        "pvt_desp.plot.barh(stacked=True)\n",
        "plt.ylabel('Tipo de gasto',size=14)\n",
        "plt.yticks(size=12)\n",
        "plt.xlabel('Valor Reembolsado em  mi R$',size=14)\n",
        "plt.xticks(size=12)\n",
        "plt.title('Valores Reembolsados por Tipo de Despesa',size=18)\n",
        "plt.legend(title='Descrição Despesa',fontsize=11)\n",
        "plt.show();"
      ],
      "metadata": {
        "colab": {
          "base_uri": "https://localhost:8080/",
          "height": 414
        },
        "id": "5_U0Nd3CGjKe",
        "outputId": "64c75fda-c9d0-447e-8266-7684d47875b1"
      },
      "execution_count": 179,
      "outputs": [
        {
          "output_type": "display_data",
          "data": {
            "text/plain": [
              "<Figure size 720x432 with 1 Axes>"
            ],
            "image/png": "[encoded data removed]"
          },
          "metadata": {
            "needs_background": "light"
          }
        }
      ]
    },
    {
      "cell_type": "markdown",
      "source": [
        "\n",
        "\n",
        "\n",
        "**1.  O tipo de despesa que possui maior valor de reembolso é  prestação de serviços técnicos**  . <p>*(Contratação de consultorias, assessorias, pesquisas, trabalhos técnicos e outros serviços de apoio ao exercício do mandato parlamentar)*<p> Sendo maior parte dele não possue informação do detalhamento da despesa.\n",
        "\n",
        "**2.   Segundo maior e o único que teve todas as suas descrições de despesas preenchidos foi: Passagens nacionais.**<p>*(Passagens aéreas, aquáticas e terrestres nacionais   )*\n",
        "\n",
        "<p>\n",
        "\n",
        "\n",
        "**Um detalhe importante:**<p>\n",
        "\n",
        "\n",
        "\n",
        "A coluna \"tipo_despesa\", é importante para uma visão macro das despesas que os senadores possuem. No entanto, não preencher a coluna \"Detalhamento\" impede que seja feito um estudo minucioso deste gasto.\n",
        "\n"
      ],
      "metadata": {
        "id": "1-MiTItAOgkb"
      }
    },
    {
      "cell_type": "code",
      "source": [
        ""
      ],
      "metadata": {
        "id": "4ygmtsjyHUVD"
      },
      "execution_count": null,
      "outputs": []
    }
  ]
}